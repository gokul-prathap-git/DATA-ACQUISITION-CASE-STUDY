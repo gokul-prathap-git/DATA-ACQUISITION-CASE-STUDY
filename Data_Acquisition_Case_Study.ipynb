{
 "cells": [
  {
   "cell_type": "markdown",
   "metadata": {
    "id": "6aRvzWzbhcnp"
   },
   "source": [
    "# Data Acquisition Case Study"
   ]
  },
  {
   "cell_type": "markdown",
   "metadata": {
    "id": "734JDyUNq8fH"
   },
   "source": [
    "## Q1. Write Python code to create a new file named \"sample_data.txt\" in your documents folder and write the following content to it\n",
    "\n",
    "ICTAK\n",
    "\n",
    "Thejaswini,\n",
    "\n",
    "Technopark Rd,\n",
    "\n",
    "Technopark Campus,\n",
    "\n",
    "Thiruvananthapuram,\n",
    "\n",
    "Kerala 695581"
   ]
  },
  {
   "cell_type": "code",
   "execution_count": 39,
   "metadata": {
    "id": "ieKhqBr-nl7s"
   },
   "outputs": [
    {
     "name": "stdout",
     "output_type": "stream",
     "text": [
      "File 'sample_data.txt' created at: C:\\Users\\DELL\\Documents\\sample_data.txt\n"
     ]
    }
   ],
   "source": [
    "import os\n",
    "\n",
    "folder = os.path.join(os.path.expanduser(\"~\"), \"Documents\")\n",
    "file_path = os.path.join(folder, \"sample_data.txt\")\n",
    "content = \"\"\"ICTAK \\n\n",
    "Thejaswini, \\n\n",
    "Technopark Rd, \\n\n",
    "Technopark Campus, \\n\n",
    "Thiruvananthapuram, \\n\n",
    "Kerala 695581\"\"\"\n",
    "\n",
    "with open(file_path, \"w\") as file:\n",
    "    file.write(content)\n",
    "\n",
    "print(f\"File 'sample_data.txt' created at: {file_path}\")"
   ]
  },
  {
   "cell_type": "markdown",
   "metadata": {
    "id": "aJ6hQOJpimNv"
   },
   "source": [
    "## Q2. Write Python code to read and print the contents in \"sample_data.txt\""
   ]
  },
  {
   "cell_type": "code",
   "execution_count": 41,
   "metadata": {
    "id": "vRnilPQgnrPG"
   },
   "outputs": [
    {
     "name": "stdout",
     "output_type": "stream",
     "text": [
      "ICTAK \n",
      "\n",
      "Thejaswini, \n",
      "\n",
      "Technopark Rd, \n",
      "\n",
      "Technopark Campus, \n",
      "\n",
      "Thiruvananthapuram, \n",
      "\n",
      "Kerala 695581\n"
     ]
    }
   ],
   "source": [
    "with open(file_path, \"r\") as file:\n",
    "    content = file.read()\n",
    "    print(content)"
   ]
  },
  {
   "cell_type": "markdown",
   "metadata": {
    "id": "9aHquDcErda-"
   },
   "source": [
    "## Q3. Write Python code to check if \"sample_data.txt\" exists in documents folder"
   ]
  },
  {
   "cell_type": "code",
   "execution_count": 43,
   "metadata": {
    "id": "vY5TEsxunsKh"
   },
   "outputs": [
    {
     "name": "stdout",
     "output_type": "stream",
     "text": [
      "File exists in : C:\\Users\\DELL\\Documents\\sample_data.txt\n"
     ]
    }
   ],
   "source": [
    "documents_folder = os.path.join(os.path.expanduser(\"~\"), \"Documents\")\n",
    "file_path = os.path.join(documents_folder, \"sample_data.txt\")\n",
    "\n",
    "if os.path.exists(file_path):\n",
    "    print(f\"File exists in : {file_path}\")\n",
    "else:\n",
    "    print(\"File does not exist.\")"
   ]
  },
  {
   "cell_type": "markdown",
   "metadata": {
    "id": "BCWITkmopblI"
   },
   "source": [
    "## Q4: Save the following dataframe content to a CSV file (data.csv) in your downloads folder"
   ]
  },
  {
   "cell_type": "code",
   "execution_count": 45,
   "metadata": {
    "id": "r3THwBOGpP9F"
   },
   "outputs": [],
   "source": [
    "import pandas as pd\n",
    "\n",
    "data = {\"Id\": [1, 2, 3],\n",
    "        \"Name\": [\"Alice\", \"Bob\", \"Charlie\"],\n",
    "        \"Subject\": [\"Science\", \"Maths\", \"History\"]}\n",
    "df = pd.DataFrame(data)"
   ]
  },
  {
   "cell_type": "code",
   "execution_count": 46,
   "metadata": {
    "id": "Joc7XafnntaG"
   },
   "outputs": [
    {
     "name": "stdout",
     "output_type": "stream",
     "text": [
      "CSV file saved at: C:\\Users\\DELL\\Downloads\\data.csv\n"
     ]
    }
   ],
   "source": [
    "import pandas as pd\n",
    "\n",
    "data = {\"Id\": [1, 2, 3],\n",
    "        \"Name\": [\"Alice\", \"Bob\", \"Charlie\"],\n",
    "        \"Subject\": [\"Science\", \"Maths\", \"History\"]}\n",
    "df = pd.DataFrame(data)\n",
    "downloads_folder = os.path.join(os.path.expanduser(\"~\"), \"Downloads\")\n",
    "file_path = os.path.join(downloads_folder, \"data.csv\")\n",
    "\n",
    "df.to_csv(file_path, index=False)\n",
    "\n",
    "print(f\"CSV file saved at: {file_path}\")"
   ]
  },
  {
   "cell_type": "markdown",
   "metadata": {
    "id": "VF0nJjGElq0A"
   },
   "source": [
    "## Q5: Save the above dataframe content to an Excel (data.xlsx, sheet name: Sheet1) file in your documents folder"
   ]
  },
  {
   "cell_type": "code",
   "execution_count": 48,
   "metadata": {
    "id": "ZtOFb7ZJnu1m"
   },
   "outputs": [
    {
     "name": "stdout",
     "output_type": "stream",
     "text": [
      "Excel file saved at: C:\\Users\\DELL\\Documents\\data.xlsx\n"
     ]
    }
   ],
   "source": [
    "df = pd.DataFrame(data)\n",
    "\n",
    "documents_folder = os.path.join(os.path.expanduser(\"~\"), \"Documents\")\n",
    "file_path = os.path.join(documents_folder, \"data.xlsx\")\n",
    "\n",
    "df.to_excel(file_path, sheet_name=\"Sheet1\")\n",
    "\n",
    "print(f\"Excel file saved at: {file_path}\")"
   ]
  },
  {
   "cell_type": "markdown",
   "metadata": {
    "id": "amF6kxMQmdgF"
   },
   "source": [
    "## Q6. Write code to get the list of files in your Downloads folder and save it to a CSV file name \"download_list.csv\""
   ]
  },
  {
   "cell_type": "code",
   "execution_count": 50,
   "metadata": {
    "id": "nVP86z3dnvwz"
   },
   "outputs": [
    {
     "name": "stdout",
     "output_type": "stream",
     "text": [
      "File list saved to C:\\Users\\DELL/Downloads\\download_list.csv\n"
     ]
    }
   ],
   "source": [
    "\n",
    "import csv\n",
    "\n",
    "downloads_folder = os.path.expanduser(\"~/Downloads\")\n",
    "\n",
    "files_list = os.listdir(downloads_folder)\n",
    "\n",
    "csv_file_path = os.path.join(downloads_folder, \"download_list.csv\")\n",
    "\n",
    "with open(csv_file_path, mode='w', newline='', encoding='utf-8') as file:\n",
    "    writer = csv.writer(file)\n",
    "    writer.writerow([\"File Name\"])  # Header row\n",
    "    for file_name in files_list:\n",
    "        writer.writerow([file_name])\n",
    "\n",
    "print(f\"File list saved to {csv_file_path}\")\n"
   ]
  },
  {
   "cell_type": "markdown",
   "metadata": {
    "id": "vR7I4R5bnV2w"
   },
   "source": [
    "## Q7. Write Python code to save the contents of the given random_array variable as a numpy file"
   ]
  },
  {
   "cell_type": "code",
   "execution_count": 52,
   "metadata": {
    "id": "vHXYRxnDnJzA"
   },
   "outputs": [],
   "source": [
    "import numpy as np\n",
    "random_array = np.random.rand(10, 10)"
   ]
  },
  {
   "cell_type": "code",
   "execution_count": 53,
   "metadata": {
    "id": "ihhSKJF9n3NP"
   },
   "outputs": [
    {
     "name": "stdout",
     "output_type": "stream",
     "text": [
      "The array has been saved to 'random_array.npy'\n"
     ]
    }
   ],
   "source": [
    "import numpy as np\n",
    "\n",
    "random_array = np.random.rand(5, 5)  \n",
    "file_name = \"random_array.npy\"\n",
    "\n",
    "np.save(file_name, random_array)\n",
    "\n",
    "print(f\"The array has been saved to '{file_name}'\")\n"
   ]
  },
  {
   "cell_type": "markdown",
   "metadata": {
    "id": "V7XfHgGAzNIl"
   },
   "source": [
    "## Q8. Write python code to save the contents of the above numpy file as text file named \"random.txt\" with a delimitter of \";\" to Documents folder"
   ]
  },
  {
   "cell_type": "code",
   "execution_count": 55,
   "metadata": {
    "id": "Du3LRbaKbpeg"
   },
   "outputs": [
    {
     "name": "stdout",
     "output_type": "stream",
     "text": [
      "The array has been saved as a text file at: C:\\Users\\DELL/Documents\\random.txt\n"
     ]
    }
   ],
   "source": [
    "import numpy as np\n",
    "import os\n",
    "\n",
    "file_name = \"random_array.npy\"\n",
    "random_array = np.load(file_name)\n",
    "\n",
    "documents_folder = os.path.expanduser(\"~/Documents\")\n",
    "text_file_path = os.path.join(documents_folder, \"random.txt\")\n",
    "\n",
    "np.savetxt(text_file_path, random_array, delimiter=\";\", fmt=\"%s\")\n",
    "\n",
    "print(f\"The array has been saved as a text file at: {text_file_path}\")\n"
   ]
  },
  {
   "cell_type": "markdown",
   "metadata": {
    "id": "nJSaX0Rg151y"
   },
   "source": [
    "## Download and analyze Bike Sharing Dataset (hour.csv) for UCI Irvin Repository (https://archive.ics.uci.edu/dataset/275/bike+sharing+dataset) and answer the following questions"
   ]
  },
  {
   "cell_type": "markdown",
   "metadata": {
    "id": "-wt4mxq32U6H"
   },
   "source": [
    "## Q9. What is the size of the dataset? (Number of rows and columns)\n",
    "\n"
   ]
  },
  {
   "cell_type": "code",
   "execution_count": 58,
   "metadata": {
    "id": "Pj0I0JhF2EEg"
   },
   "outputs": [
    {
     "name": "stdout",
     "output_type": "stream",
     "text": [
      "The number of rows is 17379 and the number of columns is 17\n"
     ]
    }
   ],
   "source": [
    "data = pd.read_csv(\"hour.csv\") \n",
    "data.shape\n",
    "print(f'The number of rows is {data.shape[0]} and the number of columns is {data.shape[1]}')\n"
   ]
  },
  {
   "cell_type": "markdown",
   "metadata": {
    "id": "GbDnC_i438m8"
   },
   "source": [
    "## Q10. What are the data types of each column?\n"
   ]
  },
  {
   "cell_type": "code",
   "execution_count": 60,
   "metadata": {},
   "outputs": [
    {
     "name": "stdout",
     "output_type": "stream",
     "text": [
      "instant         int64\n",
      "dteday         object\n",
      "season          int64\n",
      "yr              int64\n",
      "mnth            int64\n",
      "hr              int64\n",
      "holiday         int64\n",
      "weekday         int64\n",
      "workingday      int64\n",
      "weathersit      int64\n",
      "temp          float64\n",
      "atemp         float64\n",
      "hum           float64\n",
      "windspeed     float64\n",
      "casual          int64\n",
      "registered      int64\n",
      "cnt             int64\n",
      "dtype: object\n"
     ]
    }
   ],
   "source": [
    "\n",
    "data = pd.read_csv(\"hour.csv\")\n",
    "\n",
    "print(data.dtypes)\n"
   ]
  },
  {
   "cell_type": "markdown",
   "metadata": {
    "id": "zi0jHMq-3_NI"
   },
   "source": [
    "## Q11. Are there any missing values in the dataset? If so, which columns have missing values and how many?"
   ]
  },
  {
   "cell_type": "code",
   "execution_count": 62,
   "metadata": {},
   "outputs": [
    {
     "name": "stdout",
     "output_type": "stream",
     "text": [
      "Missing Values in Each Column:\n",
      "Series([], dtype: int64)\n"
     ]
    }
   ],
   "source": [
    "\n",
    "data = pd.read_csv(\"hour.csv\")\n",
    "\n",
    "missing_values = data.isnull().sum()\n",
    "\n",
    "print(\"Missing Values in Each Column:\")\n",
    "print(missing_values[missing_values > 0])\n"
   ]
  },
  {
   "cell_type": "markdown",
   "metadata": {
    "id": "Ew__56Iq4BMK"
   },
   "source": [
    "## Q.12. For the windspeed column, calculate the mean, median, and standard deviation."
   ]
  },
  {
   "cell_type": "code",
   "execution_count": 64,
   "metadata": {},
   "outputs": [
    {
     "name": "stdout",
     "output_type": "stream",
     "text": [
      "Mean Windspeed: 0.7283600640757334\n",
      "Median Windspeed: 0.9086933836665083\n",
      "Standard Deviation of Windspeed: 0.3413381175015136\n"
     ]
    }
   ],
   "source": [
    "data = pd.read_csv(\"hour.csv\")\n",
    "\n",
    "# Specify the column index for windspeed (e.g., replace with its actual index)\n",
    "windspeed_column_index = 2  # Adjust this to match the correct column index in your dataset\n",
    "windspeed_column = random_array[:, windspeed_column_index]\n",
    "\n",
    "# Compute the statistics\n",
    "mean_windspeed = np.mean(windspeed_column)\n",
    "median_windspeed = np.median(windspeed_column)\n",
    "std_windspeed = np.std(windspeed_column)\n",
    "\n",
    "# Display the results\n",
    "print(f\"Mean Windspeed: {mean_windspeed}\")\n",
    "print(f\"Median Windspeed: {median_windspeed}\")\n",
    "print(f\"Standard Deviation of Windspeed: {std_windspeed}\")\n"
   ]
  },
  {
   "cell_type": "markdown",
   "metadata": {
    "id": "3dHaYtuP4C78"
   },
   "source": [
    "## Q13. Identify any potential outliers in a numerical column of your choice. Explain your approach.\n"
   ]
  },
  {
   "cell_type": "code",
   "execution_count": 66,
   "metadata": {},
   "outputs": [
    {
     "name": "stdout",
     "output_type": "stream",
     "text": [
      "The outliers in windspeed column is : \n"
     ]
    },
    {
     "data": {
      "text/plain": [
       "175      0.4925\n",
       "178      0.5522\n",
       "194      0.5224\n",
       "196      0.5224\n",
       "265      0.5821\n",
       "          ...  \n",
       "17327    0.5522\n",
       "17328    0.4925\n",
       "17341    0.5821\n",
       "17343    0.5821\n",
       "17344    0.6567\n",
       "Name: windspeed, Length: 342, dtype: float64"
      ]
     },
     "execution_count": 66,
     "metadata": {},
     "output_type": "execute_result"
    }
   ],
   "source": [
    "import pandas as pd\n",
    "data = pd.read_csv(\"hour.csv\")\n",
    "Q1 = data['windspeed'].quantile(0.25)\n",
    "Q3 = data['windspeed'].quantile(0.75)\n",
    "IQR = Q3 - Q1\n",
    "\n",
    "lower_bound = Q1 - 1.5 * IQR\n",
    "upper_bound = Q3 + 1.5 * IQR\n",
    "\n",
    "outliers = data[(data['windspeed'] < lower_bound) | (data['windspeed'] > upper_bound)]\n",
    "print('The outliers in windspeed column is : ')\n",
    "outliers.windspeed"
   ]
  },
  {
   "cell_type": "markdown",
   "metadata": {
    "id": "14sUq8ZF4E88"
   },
   "source": [
    "## Q.14 Find the correlation between numerical columns and discuss any interesting relationships."
   ]
  },
  {
   "cell_type": "code",
   "execution_count": 68,
   "metadata": {},
   "outputs": [
    {
     "name": "stdout",
     "output_type": "stream",
     "text": [
      "             instant    season        yr      mnth        hr   holiday  \\\n",
      "instant     1.000000  0.404046  0.866014  0.489164 -0.004775  0.014723   \n",
      "season      0.404046  1.000000 -0.010742  0.830386 -0.006117 -0.009585   \n",
      "yr          0.866014 -0.010742  1.000000 -0.010473 -0.003867  0.006692   \n",
      "mnth        0.489164  0.830386 -0.010473  1.000000 -0.005772  0.018430   \n",
      "hr         -0.004775 -0.006117 -0.003867 -0.005772  1.000000  0.000479   \n",
      "holiday     0.014723 -0.009585  0.006692  0.018430  0.000479  1.000000   \n",
      "weekday     0.001357 -0.002335 -0.004485  0.010400 -0.003498 -0.102088   \n",
      "workingday -0.003416  0.013743 -0.002196 -0.003477  0.002285 -0.252471   \n",
      "weathersit -0.014198 -0.014524 -0.019157  0.005400 -0.020203 -0.017036   \n",
      "temp        0.136178  0.312025  0.040913  0.201691  0.137603 -0.027340   \n",
      "atemp       0.137615  0.319380  0.039222  0.208096  0.133750 -0.030973   \n",
      "hum         0.009577  0.150625 -0.083546  0.164411 -0.276498 -0.010588   \n",
      "windspeed  -0.074505 -0.149773 -0.008740 -0.135386  0.137252  0.003988   \n",
      "casual      0.158295  0.120206  0.142779  0.068457  0.301202  0.031564   \n",
      "registered  0.282046  0.174226  0.253684  0.122273  0.374141 -0.047345   \n",
      "cnt         0.278379  0.178056  0.250495  0.120638  0.394071 -0.030927   \n",
      "\n",
      "             weekday  workingday  weathersit      temp     atemp       hum  \\\n",
      "instant     0.001357   -0.003416   -0.014198  0.136178  0.137615  0.009577   \n",
      "season     -0.002335    0.013743   -0.014524  0.312025  0.319380  0.150625   \n",
      "yr         -0.004485   -0.002196   -0.019157  0.040913  0.039222 -0.083546   \n",
      "mnth        0.010400   -0.003477    0.005400  0.201691  0.208096  0.164411   \n",
      "hr         -0.003498    0.002285   -0.020203  0.137603  0.133750 -0.276498   \n",
      "holiday    -0.102088   -0.252471   -0.017036 -0.027340 -0.030973 -0.010588   \n",
      "weekday     1.000000    0.035955    0.003311 -0.001795 -0.008821 -0.037158   \n",
      "workingday  0.035955    1.000000    0.044672  0.055390  0.054667  0.015688   \n",
      "weathersit  0.003311    0.044672    1.000000 -0.102640 -0.105563  0.418130   \n",
      "temp       -0.001795    0.055390   -0.102640  1.000000  0.987672 -0.069881   \n",
      "atemp      -0.008821    0.054667   -0.105563  0.987672  1.000000 -0.051918   \n",
      "hum        -0.037158    0.015688    0.418130 -0.069881 -0.051918  1.000000   \n",
      "windspeed   0.011502   -0.011830    0.026226 -0.023125 -0.062336 -0.290105   \n",
      "casual      0.032721   -0.300942   -0.152628  0.459616  0.454080 -0.347028   \n",
      "registered  0.021578    0.134326   -0.120966  0.335361  0.332559 -0.273933   \n",
      "cnt         0.026900    0.030284   -0.142426  0.404772  0.400929 -0.322911   \n",
      "\n",
      "            windspeed    casual  registered       cnt  \n",
      "instant     -0.074505  0.158295    0.282046  0.278379  \n",
      "season      -0.149773  0.120206    0.174226  0.178056  \n",
      "yr          -0.008740  0.142779    0.253684  0.250495  \n",
      "mnth        -0.135386  0.068457    0.122273  0.120638  \n",
      "hr           0.137252  0.301202    0.374141  0.394071  \n",
      "holiday      0.003988  0.031564   -0.047345 -0.030927  \n",
      "weekday      0.011502  0.032721    0.021578  0.026900  \n",
      "workingday  -0.011830 -0.300942    0.134326  0.030284  \n",
      "weathersit   0.026226 -0.152628   -0.120966 -0.142426  \n",
      "temp        -0.023125  0.459616    0.335361  0.404772  \n",
      "atemp       -0.062336  0.454080    0.332559  0.400929  \n",
      "hum         -0.290105 -0.347028   -0.273933 -0.322911  \n",
      "windspeed    1.000000  0.090287    0.082321  0.093234  \n",
      "casual       0.090287  1.000000    0.506618  0.694564  \n",
      "registered   0.082321  0.506618    1.000000  0.972151  \n",
      "cnt          0.093234  0.694564    0.972151  1.000000  \n"
     ]
    }
   ],
   "source": [
    "\n",
    "correlation_matrix = data.select_dtypes(include=[\"number\"]).corr()\n",
    "print(correlation_matrix)\n",
    "\n",
    "\n",
    "# 'registered' and 'cnt' has a strong positive correlation of 0.972.\n",
    "# 'temp' and 'atemp' are highly correlated (0.987).\n",
    "# 'casual' and 'cnt' also has a correlation of 0.694.\n",
    "#'windspeed' and 'casual' has a correlation of 0.090 shows a weak, almost negligible relationship."
   ]
  },
  {
   "cell_type": "markdown",
   "metadata": {
    "id": "ru-xlbd44IAY"
   },
   "source": [
    "## Q.15 Based on your analysis, provide a brief summary of any insights or patterns you discovered in the dataset."
   ]
  },
  {
   "cell_type": "code",
   "execution_count": 70,
   "metadata": {
    "id": "15NUIdxK4I03"
   },
   "outputs": [],
   "source": [
    "# The analysis of the Bike Sharing Dataset reveals that temperature and apparent temperature are closely related,\n",
    "# influencing bike rentals. Registered users have a stronger impact on total rentals,\n",
    "# while casual rentals also significantly affect overall usage.\n",
    "# Windspeed has minimal influence on bike rentals.\n",
    "# These findings suggest that weather, particularly temperature, plays a key role in bike-sharing behavior.\n",
    "\n",
    "# Correlations help pinpoint areas where one factor influences another, offering actionable insights, \n",
    "#such as focusing on factors driving sales or efficiency. The patterns vary with datasets, \n",
    "# and interpreting them often leads to discoveries about underlying trends."
   ]
  },
  {
   "cell_type": "markdown",
   "metadata": {
    "id": "iMGro15Q5WhF"
   },
   "source": [
    "## Q.16 In which season (Spring, Summer, Fall, Winter) people rented bikes the most?"
   ]
  },
  {
   "cell_type": "code",
   "execution_count": 72,
   "metadata": {},
   "outputs": [
    {
     "name": "stdout",
     "output_type": "stream",
     "text": [
      "People rented bikes the most in season: 3\n"
     ]
    }
   ],
   "source": [
    "season_rentals = data.groupby(\"season\")[\"cnt\"].sum()\n",
    "most_rented_season = season_rentals.idxmax()\n",
    "\n",
    "print(f\"People rented bikes the most in season: {most_rented_season}\")"
   ]
  },
  {
   "cell_type": "markdown",
   "metadata": {
    "id": "eudb_1Lb5sVc"
   },
   "source": [
    "## Q.17 What is the peak hour in which bike rents the most?"
   ]
  },
  {
   "cell_type": "code",
   "execution_count": 74,
   "metadata": {
    "id": "p0xSgv8g50yt"
   },
   "outputs": [
    {
     "name": "stdout",
     "output_type": "stream",
     "text": [
      "The peak hour for bike rentals is: 17:00\n"
     ]
    }
   ],
   "source": [
    "hourly_rentals = data.groupby(\"hr\")[\"cnt\"].sum()\n",
    "peak_hour = hourly_rentals.idxmax()\n",
    "\n",
    "print(f\"The peak hour for bike rentals is: {peak_hour}:00\")"
   ]
  },
  {
   "cell_type": "markdown",
   "metadata": {
    "id": "y7rArqGQ6ji4"
   },
   "source": [
    "## Q.18 In which day of a week bikes rents out most?"
   ]
  },
  {
   "cell_type": "code",
   "execution_count": 76,
   "metadata": {
    "id": "6GPCbpsx6oYE"
   },
   "outputs": [
    {
     "name": "stdout",
     "output_type": "stream",
     "text": [
      "The day with the highest bike rentals is: 5\n"
     ]
    }
   ],
   "source": [
    "weekday_rentals = data.groupby(\"weekday\")[\"cnt\"].sum()\n",
    "most_rented_day = weekday_rentals.idxmax()\n",
    "\n",
    "print(f\"The day with the highest bike rentals is: {most_rented_day}\")"
   ]
  },
  {
   "cell_type": "markdown",
   "metadata": {
    "id": "bFO_Twk66qw-"
   },
   "source": [
    "## Q.19 In which hour Casual users rents bikes the most?"
   ]
  },
  {
   "cell_type": "code",
   "execution_count": 78,
   "metadata": {
    "id": "59CHoEUt66GR"
   },
   "outputs": [
    {
     "name": "stdout",
     "output_type": "stream",
     "text": [
      "The peak hour for casual users renting bikes is: 14:00\n"
     ]
    }
   ],
   "source": [
    "hourly_casual_rentals = data.groupby(\"hr\")[\"casual\"].sum()\n",
    "peak_casual_hour = hourly_casual_rentals.idxmax()\n",
    "\n",
    "print(f\"The peak hour for casual users renting bikes is: {peak_casual_hour}:00\")"
   ]
  },
  {
   "cell_type": "markdown",
   "metadata": {
    "id": "wtvgNN-U69rh"
   },
   "source": [
    "## Q.20 What is the maximum temperature observed in each of the seasons?"
   ]
  },
  {
   "cell_type": "code",
   "execution_count": 80,
   "metadata": {
    "id": "U_NwDHv57tLT"
   },
   "outputs": [
    {
     "name": "stdout",
     "output_type": "stream",
     "text": [
      "season\n",
      "1    0.72\n",
      "2    0.94\n",
      "3    1.00\n",
      "4    0.76\n",
      "Name: temp, dtype: float64\n"
     ]
    }
   ],
   "source": [
    "max_temp_per_season = data.groupby(\"season\")[\"temp\"].max()\n",
    "print(max_temp_per_season)"
   ]
  },
  {
   "cell_type": "code",
   "execution_count": null,
   "metadata": {},
   "outputs": [],
   "source": []
  }
 ],
 "metadata": {
  "colab": {
   "provenance": []
  },
  "kernelspec": {
   "display_name": "Python 3 (ipykernel)",
   "language": "python",
   "name": "python3"
  },
  "language_info": {
   "codemirror_mode": {
    "name": "ipython",
    "version": 3
   },
   "file_extension": ".py",
   "mimetype": "text/x-python",
   "name": "python",
   "nbconvert_exporter": "python",
   "pygments_lexer": "ipython3",
   "version": "3.12.7"
  }
 },
 "nbformat": 4,
 "nbformat_minor": 4
}
